{
 "cells": [
  {
   "cell_type": "markdown",
   "metadata": {},
   "source": [
    "# Curso de Numpy - Alura"
   ]
  },
  {
   "cell_type": "markdown",
   "metadata": {},
   "source": [
    "## Bibliotecas importadas"
   ]
  },
  {
   "cell_type": "code",
   "execution_count": 1,
   "metadata": {},
   "outputs": [],
   "source": [
    "import numpy as np\n",
    "import matplotlib.pyplot as plt"
   ]
  },
  {
   "cell_type": "markdown",
   "metadata": {},
   "source": [
    "## Carregando csv por meio da biblioteca numpy"
   ]
  },
  {
   "cell_type": "code",
   "execution_count": 2,
   "metadata": {
    "collapsed": true,
    "editable": true,
    "jupyter": {
     "outputs_hidden": true
    },
    "slideshow": {
     "slide_type": ""
    },
    "tags": []
   },
   "outputs": [
    {
     "data": {
      "text/plain": [
       "array([[  1.2013,   2.2013,   3.2013,   4.2013,   5.2013,   6.2013,\n",
       "          7.2013,   8.2013,   9.2013,  10.2013,  11.2013,  12.2013,\n",
       "          1.2014,   2.2014,   3.2014,   4.2014,   5.2014,   6.2014,\n",
       "          7.2014,   8.2014,   9.2014,  10.2014,  11.2014,  12.2014,\n",
       "          1.2015,   2.2015,   3.2015,   4.2015,   5.2015,   6.2015,\n",
       "          7.2015,   8.2015,   9.2015,  10.2015,  11.2015,  12.2015,\n",
       "          1.2016,   2.2016,   3.2016,   4.2016,   5.2016,   6.2016,\n",
       "          7.2016,   8.2016,   9.2016,  10.2016,  11.2016,  12.2016,\n",
       "          1.2017,   2.2017,   3.2017,   4.2017,   5.2017,   6.2017,\n",
       "          7.2017,   8.2017,   9.2017,  10.2017,  11.2017,  12.2017,\n",
       "          1.2018,   2.2018,   3.2018,   4.2018,   5.2018,   6.2018,\n",
       "          7.2018,   8.2018,   9.2018,  10.2018,  11.2018,  12.2018,\n",
       "          1.2019,   2.2019,   3.2019,   4.2019,   5.2019,   6.2019,\n",
       "          7.2019,   8.2019,   9.2019,  10.2019,  11.2019,  12.2019,\n",
       "          1.202 ,   2.202 ,   3.202 ],\n",
       "       [ 79.72  ,  81.08  ,  79.68  ,  79.8   ,  80.63  ,  80.8   ,\n",
       "         80.28  ,  78.99  ,  76.77  ,  76.09  ,  76.36  ,  77.16  ,\n",
       "         77.5   ,  79.03  ,  80.28  ,  80.05  ,  78.11  ,  76.9   ,\n",
       "         77.68  ,  76.05  ,  75.53  ,  73.39  ,  78.36  ,  89.16  ,\n",
       "        105.43  , 104.82  , 101.15  ,  98.63  ,  99.96  ,  97.29  ,\n",
       "         98.64  , 104.26  , 102.63  ,  98.64  ,  97.17  ,  98.09  ,\n",
       "        103.07  , 110.26  , 110.84  , 112.28  , 111.1   , 110.06  ,\n",
       "        113.7   , 112.88  , 102.08  ,  95.54  ,  91.33  ,  89.99  ,\n",
       "         91.44  ,  93.51  ,  93.6   ,  93.78  ,  98.91  , 121.76  ,\n",
       "        129.6   , 127.9   , 114.55  , 101.88  ,  99.09  , 103.35  ,\n",
       "        106.58  , 108.    , 114.95  , 121.17  , 122.48  , 127.58  ,\n",
       "        131.89  , 129.36  , 104.26  ,  93.45  ,  92.93  ,  96.15  ,\n",
       "         99.1   , 103.    , 103.31  , 103.01  , 107.37  , 116.91  ,\n",
       "        125.29  , 123.94  , 113.03  , 102.19  ,  97.83  , 101.07  ,\n",
       "        103.44  , 108.23  , 110.28  ],\n",
       "       [ 42.67  ,  44.37  ,  44.73  ,  46.75  ,      nan,  51.59  ,\n",
       "         57.8   ,  62.14  ,  56.76  ,  50.85  ,  46.43  ,  46.73  ,\n",
       "         45.85  ,  49.25  ,  48.14  ,  49.18  ,  49.49  ,  49.83  ,\n",
       "         49.14  ,  63.21  ,  61.2   ,  60.34  ,  62.2   ,  74.2   ,\n",
       "         75.32  ,  75.92  ,  72.89  ,  74.85  ,  92.19  ,  99.7   ,\n",
       "        102.78  ,  92.67  ,  90.63  ,  83.31  ,  75.5   ,  74.6   ,\n",
       "         76.94  ,  83.04  ,  80.74  ,  80.29  ,  82.82  ,  86.29  ,\n",
       "         87.41  ,  85.1   ,  78.08  ,  76.06  ,  69.23  ,  69.04  ,\n",
       "         64.48  ,  65.73  ,  67.2   ,  70.25  ,  82.59  ,  92.12  ,\n",
       "        100.82  ,  95.23  ,  89.51  ,  82.84  ,  82.3   ,  83.76  ,\n",
       "         84.72  ,  83.91  ,  99.14  , 101.6   , 113.03  , 119.54  ,\n",
       "        118.09  , 107.32  ,  82.6   ,  77.4   ,  71.77  ,  71.25  ,\n",
       "         71.35  ,  73.62  ,  76.2   ,  74.15  ,  75.67  ,  79.2   ,\n",
       "         80.85  ,  85.33  ,  75.02  ,  77.95  ,  78.98  ,  76.55  ,\n",
       "         74.89  ,  70.    ,  81.53  ],\n",
       "       [ 62.55  ,  62.73  ,  63.43  ,  63.83  ,  66.06  ,  69.22  ,\n",
       "         72.07  ,  69.31  ,  65.18  ,  62.13  ,  64.17  ,  65.5   ,\n",
       "         66.85  ,  68.38  ,  68.77  ,  69.32  ,  69.77  ,  70.17  ,\n",
       "         70.76  ,  75.16  ,  74.86  ,  71.47  ,  76.08  ,  82.11  ,\n",
       "         94.63  ,  98.54  ,  97.84  ,  94.54  ,  97.88  ,  97.73  ,\n",
       "        100.89  , 104.88  , 104.39  , 101.9   ,  98.99  ,  99.42  ,\n",
       "        106.37  , 113.89  , 114.78  , 115.6   , 115.89  , 117.66  ,\n",
       "        118.27  , 114.19  , 101.81  ,  91.62  ,  90.15  ,  90.55  ,\n",
       "         92.3   ,  91.75  ,  92.    ,  92.57  , 100.28  , 114.33  ,\n",
       "        122.17  , 117.83  , 112.49  ,  93.7   ,  97.17  ,  95.64  ,\n",
       "        102.21  , 107.58  , 110.48  , 117.73  , 122.07  , 128.58  ,\n",
       "        131.12  , 127.08  , 110.99  ,  97.43  ,  92.05  ,  93.21  ,\n",
       "         98.58  , 100.23  , 102.09  , 101.73  , 107.28  , 115.35  ,\n",
       "        123.03  , 123.08  , 109.71  ,  97.22  ,  95.75  ,  97.09  ,\n",
       "         98.18  , 103.1   , 110.6   ],\n",
       "       [ 48.26  ,  51.01  ,  50.91  ,  53.94  ,  61.27  ,  65.44  ,\n",
       "         56.51  ,  53.    ,  43.87  ,  42.12  ,  43.98  ,  44.66  ,\n",
       "         47.73  ,  52.31  ,  56.8   ,  51.15  ,  54.63  ,  55.8   ,\n",
       "         57.31  ,  53.81  ,  55.5   ,  52.95  ,  53.29  ,  54.86  ,\n",
       "         71.72  ,  74.36  ,  78.25  ,  70.63  ,  77.06  ,  81.52  ,\n",
       "         84.12  ,  83.33  ,  66.98  ,  62.04  ,  59.79  ,  66.06  ,\n",
       "         71.99  ,  76.79  ,  80.98  ,  89.18  ,  92.71  ,  94.85  ,\n",
       "         99.18  ,  86.33  ,  71.94  ,  67.18  ,  62.98  ,  69.45  ,\n",
       "         67.56  ,  67.92  ,  68.4   ,  67.97  ,  76.33  ,  95.79  ,\n",
       "        112.36  ,  82.03  ,  73.83  ,  66.12  ,  63.24  ,  63.98  ,\n",
       "         69.1   ,  70.04  ,  80.03  ,  87.92  ,  97.07  , 106.52  ,\n",
       "        108.93  ,  95.17  ,  74.31  ,  62.63  ,  69.92  ,  70.58  ,\n",
       "         74.63  ,  78.69  ,  81.82  ,  82.36  ,  89.44  , 102.01  ,\n",
       "        116.12  ,  92.06  ,  82.7   ,  66.62  ,  68.11  ,  73.48  ,\n",
       "         82.04  ,  81.19  ,  95.05  ],\n",
       "       [ 71.25  ,  71.35  ,  70.9   ,  71.92  ,  72.91  ,  74.39  ,\n",
       "         73.1   ,  70.24  ,  69.12  ,  68.98  ,  68.58  ,  69.5   ,\n",
       "         70.14  ,  70.58  ,  70.78  ,  72.78  ,  72.84  ,  74.74  ,\n",
       "         76.43  ,  81.2   ,  82.04  ,  79.67  ,  81.25  ,  85.88  ,\n",
       "         91.35  , 101.32  , 102.45  ,  98.18  , 105.1   , 104.85  ,\n",
       "        111.48  , 118.51  , 118.92  , 109.87  , 105.22  , 105.45  ,\n",
       "        115.61  , 116.61  , 120.39  , 119.2   , 119.92  , 120.57  ,\n",
       "        123.37  , 121.39  , 118.16  , 108.84  , 100.78  ,  99.92  ,\n",
       "        100.65  ,  98.92  , 100.31  ,  96.41  , 101.24  , 118.7   ,\n",
       "        133.29  , 130.31  , 122.4   , 104.98  , 107.54  , 110.74  ,\n",
       "        110.51  , 111.46  , 113.42  , 118.15  , 114.    , 124.91  ,\n",
       "        126.06  , 123.3   , 111.61  ,  98.82  ,  97.47  , 103.01  ,\n",
       "        109.36  , 104.79  , 105.09  , 103.16  , 106.52  , 121.68  ,\n",
       "        125.32  , 123.41  , 108.48  ,  98.73  ,  96.25  , 100.12  ,\n",
       "        101.29  , 102.81  , 108.53  ]])"
      ]
     },
     "execution_count": 2,
     "metadata": {},
     "output_type": "execute_result"
    }
   ],
   "source": [
    "# usecols delimita as colunas que quero carregar, neste caso foi da 1 a 87\n",
    "dados = np.loadtxt('apples_ts.csv', delimiter=\",\", usecols=np.arange(1,88,1))\n",
    "dados"
   ]
  },
  {
   "cell_type": "markdown",
   "metadata": {},
   "source": [
    "#### Testando alguns métodos"
   ]
  },
  {
   "cell_type": "code",
   "execution_count": 3,
   "metadata": {},
   "outputs": [
    {
     "data": {
      "text/plain": [
       "2"
      ]
     },
     "execution_count": 3,
     "metadata": {},
     "output_type": "execute_result"
    }
   ],
   "source": [
    "# Método para encontrar número de dimensões do array\n",
    "dados.ndim"
   ]
  },
  {
   "cell_type": "code",
   "execution_count": 4,
   "metadata": {},
   "outputs": [
    {
     "data": {
      "text/plain": [
       "522"
      ]
     },
     "execution_count": 4,
     "metadata": {},
     "output_type": "execute_result"
    }
   ],
   "source": [
    "# Método para encontrar o número de dados dentro do array\n",
    "dados.size"
   ]
  },
  {
   "cell_type": "code",
   "execution_count": 5,
   "metadata": {},
   "outputs": [
    {
     "data": {
      "text/plain": [
       "(6, 87)"
      ]
     },
     "execution_count": 5,
     "metadata": {},
     "output_type": "execute_result"
    }
   ],
   "source": [
    "# Método para encontrar o número de linhas e colunas \n",
    "dados.shape"
   ]
  },
  {
   "cell_type": "code",
   "execution_count": 6,
   "metadata": {
    "collapsed": true,
    "jupyter": {
     "outputs_hidden": true
    }
   },
   "outputs": [
    {
     "data": {
      "text/plain": [
       "array([[  1.2013,  79.72  ,  42.67  ,  62.55  ,  48.26  ,  71.25  ],\n",
       "       [  2.2013,  81.08  ,  44.37  ,  62.73  ,  51.01  ,  71.35  ],\n",
       "       [  3.2013,  79.68  ,  44.73  ,  63.43  ,  50.91  ,  70.9   ],\n",
       "       [  4.2013,  79.8   ,  46.75  ,  63.83  ,  53.94  ,  71.92  ],\n",
       "       [  5.2013,  80.63  ,      nan,  66.06  ,  61.27  ,  72.91  ],\n",
       "       [  6.2013,  80.8   ,  51.59  ,  69.22  ,  65.44  ,  74.39  ],\n",
       "       [  7.2013,  80.28  ,  57.8   ,  72.07  ,  56.51  ,  73.1   ],\n",
       "       [  8.2013,  78.99  ,  62.14  ,  69.31  ,  53.    ,  70.24  ],\n",
       "       [  9.2013,  76.77  ,  56.76  ,  65.18  ,  43.87  ,  69.12  ],\n",
       "       [ 10.2013,  76.09  ,  50.85  ,  62.13  ,  42.12  ,  68.98  ],\n",
       "       [ 11.2013,  76.36  ,  46.43  ,  64.17  ,  43.98  ,  68.58  ],\n",
       "       [ 12.2013,  77.16  ,  46.73  ,  65.5   ,  44.66  ,  69.5   ],\n",
       "       [  1.2014,  77.5   ,  45.85  ,  66.85  ,  47.73  ,  70.14  ],\n",
       "       [  2.2014,  79.03  ,  49.25  ,  68.38  ,  52.31  ,  70.58  ],\n",
       "       [  3.2014,  80.28  ,  48.14  ,  68.77  ,  56.8   ,  70.78  ],\n",
       "       [  4.2014,  80.05  ,  49.18  ,  69.32  ,  51.15  ,  72.78  ],\n",
       "       [  5.2014,  78.11  ,  49.49  ,  69.77  ,  54.63  ,  72.84  ],\n",
       "       [  6.2014,  76.9   ,  49.83  ,  70.17  ,  55.8   ,  74.74  ],\n",
       "       [  7.2014,  77.68  ,  49.14  ,  70.76  ,  57.31  ,  76.43  ],\n",
       "       [  8.2014,  76.05  ,  63.21  ,  75.16  ,  53.81  ,  81.2   ],\n",
       "       [  9.2014,  75.53  ,  61.2   ,  74.86  ,  55.5   ,  82.04  ],\n",
       "       [ 10.2014,  73.39  ,  60.34  ,  71.47  ,  52.95  ,  79.67  ],\n",
       "       [ 11.2014,  78.36  ,  62.2   ,  76.08  ,  53.29  ,  81.25  ],\n",
       "       [ 12.2014,  89.16  ,  74.2   ,  82.11  ,  54.86  ,  85.88  ],\n",
       "       [  1.2015, 105.43  ,  75.32  ,  94.63  ,  71.72  ,  91.35  ],\n",
       "       [  2.2015, 104.82  ,  75.92  ,  98.54  ,  74.36  , 101.32  ],\n",
       "       [  3.2015, 101.15  ,  72.89  ,  97.84  ,  78.25  , 102.45  ],\n",
       "       [  4.2015,  98.63  ,  74.85  ,  94.54  ,  70.63  ,  98.18  ],\n",
       "       [  5.2015,  99.96  ,  92.19  ,  97.88  ,  77.06  , 105.1   ],\n",
       "       [  6.2015,  97.29  ,  99.7   ,  97.73  ,  81.52  , 104.85  ],\n",
       "       [  7.2015,  98.64  , 102.78  , 100.89  ,  84.12  , 111.48  ],\n",
       "       [  8.2015, 104.26  ,  92.67  , 104.88  ,  83.33  , 118.51  ],\n",
       "       [  9.2015, 102.63  ,  90.63  , 104.39  ,  66.98  , 118.92  ],\n",
       "       [ 10.2015,  98.64  ,  83.31  , 101.9   ,  62.04  , 109.87  ],\n",
       "       [ 11.2015,  97.17  ,  75.5   ,  98.99  ,  59.79  , 105.22  ],\n",
       "       [ 12.2015,  98.09  ,  74.6   ,  99.42  ,  66.06  , 105.45  ],\n",
       "       [  1.2016, 103.07  ,  76.94  , 106.37  ,  71.99  , 115.61  ],\n",
       "       [  2.2016, 110.26  ,  83.04  , 113.89  ,  76.79  , 116.61  ],\n",
       "       [  3.2016, 110.84  ,  80.74  , 114.78  ,  80.98  , 120.39  ],\n",
       "       [  4.2016, 112.28  ,  80.29  , 115.6   ,  89.18  , 119.2   ],\n",
       "       [  5.2016, 111.1   ,  82.82  , 115.89  ,  92.71  , 119.92  ],\n",
       "       [  6.2016, 110.06  ,  86.29  , 117.66  ,  94.85  , 120.57  ],\n",
       "       [  7.2016, 113.7   ,  87.41  , 118.27  ,  99.18  , 123.37  ],\n",
       "       [  8.2016, 112.88  ,  85.1   , 114.19  ,  86.33  , 121.39  ],\n",
       "       [  9.2016, 102.08  ,  78.08  , 101.81  ,  71.94  , 118.16  ],\n",
       "       [ 10.2016,  95.54  ,  76.06  ,  91.62  ,  67.18  , 108.84  ],\n",
       "       [ 11.2016,  91.33  ,  69.23  ,  90.15  ,  62.98  , 100.78  ],\n",
       "       [ 12.2016,  89.99  ,  69.04  ,  90.55  ,  69.45  ,  99.92  ],\n",
       "       [  1.2017,  91.44  ,  64.48  ,  92.3   ,  67.56  , 100.65  ],\n",
       "       [  2.2017,  93.51  ,  65.73  ,  91.75  ,  67.92  ,  98.92  ],\n",
       "       [  3.2017,  93.6   ,  67.2   ,  92.    ,  68.4   , 100.31  ],\n",
       "       [  4.2017,  93.78  ,  70.25  ,  92.57  ,  67.97  ,  96.41  ],\n",
       "       [  5.2017,  98.91  ,  82.59  , 100.28  ,  76.33  , 101.24  ],\n",
       "       [  6.2017, 121.76  ,  92.12  , 114.33  ,  95.79  , 118.7   ],\n",
       "       [  7.2017, 129.6   , 100.82  , 122.17  , 112.36  , 133.29  ],\n",
       "       [  8.2017, 127.9   ,  95.23  , 117.83  ,  82.03  , 130.31  ],\n",
       "       [  9.2017, 114.55  ,  89.51  , 112.49  ,  73.83  , 122.4   ],\n",
       "       [ 10.2017, 101.88  ,  82.84  ,  93.7   ,  66.12  , 104.98  ],\n",
       "       [ 11.2017,  99.09  ,  82.3   ,  97.17  ,  63.24  , 107.54  ],\n",
       "       [ 12.2017, 103.35  ,  83.76  ,  95.64  ,  63.98  , 110.74  ],\n",
       "       [  1.2018, 106.58  ,  84.72  , 102.21  ,  69.1   , 110.51  ],\n",
       "       [  2.2018, 108.    ,  83.91  , 107.58  ,  70.04  , 111.46  ],\n",
       "       [  3.2018, 114.95  ,  99.14  , 110.48  ,  80.03  , 113.42  ],\n",
       "       [  4.2018, 121.17  , 101.6   , 117.73  ,  87.92  , 118.15  ],\n",
       "       [  5.2018, 122.48  , 113.03  , 122.07  ,  97.07  , 114.    ],\n",
       "       [  6.2018, 127.58  , 119.54  , 128.58  , 106.52  , 124.91  ],\n",
       "       [  7.2018, 131.89  , 118.09  , 131.12  , 108.93  , 126.06  ],\n",
       "       [  8.2018, 129.36  , 107.32  , 127.08  ,  95.17  , 123.3   ],\n",
       "       [  9.2018, 104.26  ,  82.6   , 110.99  ,  74.31  , 111.61  ],\n",
       "       [ 10.2018,  93.45  ,  77.4   ,  97.43  ,  62.63  ,  98.82  ],\n",
       "       [ 11.2018,  92.93  ,  71.77  ,  92.05  ,  69.92  ,  97.47  ],\n",
       "       [ 12.2018,  96.15  ,  71.25  ,  93.21  ,  70.58  , 103.01  ],\n",
       "       [  1.2019,  99.1   ,  71.35  ,  98.58  ,  74.63  , 109.36  ],\n",
       "       [  2.2019, 103.    ,  73.62  , 100.23  ,  78.69  , 104.79  ],\n",
       "       [  3.2019, 103.31  ,  76.2   , 102.09  ,  81.82  , 105.09  ],\n",
       "       [  4.2019, 103.01  ,  74.15  , 101.73  ,  82.36  , 103.16  ],\n",
       "       [  5.2019, 107.37  ,  75.67  , 107.28  ,  89.44  , 106.52  ],\n",
       "       [  6.2019, 116.91  ,  79.2   , 115.35  , 102.01  , 121.68  ],\n",
       "       [  7.2019, 125.29  ,  80.85  , 123.03  , 116.12  , 125.32  ],\n",
       "       [  8.2019, 123.94  ,  85.33  , 123.08  ,  92.06  , 123.41  ],\n",
       "       [  9.2019, 113.03  ,  75.02  , 109.71  ,  82.7   , 108.48  ],\n",
       "       [ 10.2019, 102.19  ,  77.95  ,  97.22  ,  66.62  ,  98.73  ],\n",
       "       [ 11.2019,  97.83  ,  78.98  ,  95.75  ,  68.11  ,  96.25  ],\n",
       "       [ 12.2019, 101.07  ,  76.55  ,  97.09  ,  73.48  , 100.12  ],\n",
       "       [  1.202 , 103.44  ,  74.89  ,  98.18  ,  82.04  , 101.29  ],\n",
       "       [  2.202 , 108.23  ,  70.    , 103.1   ,  81.19  , 102.81  ],\n",
       "       [  3.202 , 110.28  ,  81.53  , 110.6   ,  95.05  , 108.53  ]])"
      ]
     },
     "execution_count": 6,
     "metadata": {},
     "output_type": "execute_result"
    }
   ],
   "source": [
    "# Método de transposição, ivertendo as linhas e colunas e armazenando em uma variável dados_transpostos\n",
    "dados_transpostos = dados.T\n",
    "dados_transpostos"
   ]
  },
  {
   "cell_type": "code",
   "execution_count": 7,
   "metadata": {
    "editable": true,
    "slideshow": {
     "slide_type": ""
    },
    "tags": []
   },
   "outputs": [
    {
     "data": {
      "text/plain": [
       "(87, 6)"
      ]
     },
     "execution_count": 7,
     "metadata": {},
     "output_type": "execute_result"
    }
   ],
   "source": [
    "dados_transpostos.shape"
   ]
  },
  {
   "cell_type": "markdown",
   "metadata": {},
   "source": [
    "## Preparando linhas e colunas para a visualização dos dados"
   ]
  },
  {
   "cell_type": "code",
   "execution_count": 8,
   "metadata": {
    "editable": true,
    "slideshow": {
     "slide_type": ""
    },
    "tags": []
   },
   "outputs": [],
   "source": [
    "# Selecionando linhas e colunas\n",
    "# Filtrando os dados que remetem a sequencia de datas no dataset\n",
    "datas = dados_transpostos[:, 0]"
   ]
  },
  {
   "cell_type": "code",
   "execution_count": 9,
   "metadata": {
    "editable": true,
    "slideshow": {
     "slide_type": ""
    },
    "tags": []
   },
   "outputs": [
    {
     "data": {
      "text/plain": [
       "array([ 1,  2,  3,  4,  5,  6,  7,  8,  9, 10, 11, 12, 13, 14, 15, 16, 17,\n",
       "       18, 19, 20, 21, 22, 23, 24, 25, 26, 27, 28, 29, 30, 31, 32, 33, 34,\n",
       "       35, 36, 37, 38, 39, 40, 41, 42, 43, 44, 45, 46, 47, 48, 49, 50, 51,\n",
       "       52, 53, 54, 55, 56, 57, 58, 59, 60, 61, 62, 63, 64, 65, 66, 67, 68,\n",
       "       69, 70, 71, 72, 73, 74, 75, 76, 77, 78, 79, 80, 81, 82, 83, 84, 85,\n",
       "       86, 87])"
      ]
     },
     "execution_count": 9,
     "metadata": {},
     "output_type": "execute_result"
    }
   ],
   "source": [
    "# A saída de datas representava um array de números e não de datas, usando a função arange da numpy criei uma lista\n",
    "# Representando um intervalo para cada mês do dataset indo de 1 a 88 meses, ou seja, 1.2013 a 3.2020.\n",
    "datas = np.arange(1,88,1) # Criando uma sequência de números com np.arange..\n",
    "datas"
   ]
  },
  {
   "cell_type": "code",
   "execution_count": 10,
   "metadata": {
    "collapsed": true,
    "jupyter": {
     "outputs_hidden": true
    },
    "scrolled": true
   },
   "outputs": [
    {
     "data": {
      "text/plain": [
       "array([[ 79.72,  42.67,  62.55,  48.26,  71.25],\n",
       "       [ 81.08,  44.37,  62.73,  51.01,  71.35],\n",
       "       [ 79.68,  44.73,  63.43,  50.91,  70.9 ],\n",
       "       [ 79.8 ,  46.75,  63.83,  53.94,  71.92],\n",
       "       [ 80.63,    nan,  66.06,  61.27,  72.91],\n",
       "       [ 80.8 ,  51.59,  69.22,  65.44,  74.39],\n",
       "       [ 80.28,  57.8 ,  72.07,  56.51,  73.1 ],\n",
       "       [ 78.99,  62.14,  69.31,  53.  ,  70.24],\n",
       "       [ 76.77,  56.76,  65.18,  43.87,  69.12],\n",
       "       [ 76.09,  50.85,  62.13,  42.12,  68.98],\n",
       "       [ 76.36,  46.43,  64.17,  43.98,  68.58],\n",
       "       [ 77.16,  46.73,  65.5 ,  44.66,  69.5 ],\n",
       "       [ 77.5 ,  45.85,  66.85,  47.73,  70.14],\n",
       "       [ 79.03,  49.25,  68.38,  52.31,  70.58],\n",
       "       [ 80.28,  48.14,  68.77,  56.8 ,  70.78],\n",
       "       [ 80.05,  49.18,  69.32,  51.15,  72.78],\n",
       "       [ 78.11,  49.49,  69.77,  54.63,  72.84],\n",
       "       [ 76.9 ,  49.83,  70.17,  55.8 ,  74.74],\n",
       "       [ 77.68,  49.14,  70.76,  57.31,  76.43],\n",
       "       [ 76.05,  63.21,  75.16,  53.81,  81.2 ],\n",
       "       [ 75.53,  61.2 ,  74.86,  55.5 ,  82.04],\n",
       "       [ 73.39,  60.34,  71.47,  52.95,  79.67],\n",
       "       [ 78.36,  62.2 ,  76.08,  53.29,  81.25],\n",
       "       [ 89.16,  74.2 ,  82.11,  54.86,  85.88],\n",
       "       [105.43,  75.32,  94.63,  71.72,  91.35],\n",
       "       [104.82,  75.92,  98.54,  74.36, 101.32],\n",
       "       [101.15,  72.89,  97.84,  78.25, 102.45],\n",
       "       [ 98.63,  74.85,  94.54,  70.63,  98.18],\n",
       "       [ 99.96,  92.19,  97.88,  77.06, 105.1 ],\n",
       "       [ 97.29,  99.7 ,  97.73,  81.52, 104.85],\n",
       "       [ 98.64, 102.78, 100.89,  84.12, 111.48],\n",
       "       [104.26,  92.67, 104.88,  83.33, 118.51],\n",
       "       [102.63,  90.63, 104.39,  66.98, 118.92],\n",
       "       [ 98.64,  83.31, 101.9 ,  62.04, 109.87],\n",
       "       [ 97.17,  75.5 ,  98.99,  59.79, 105.22],\n",
       "       [ 98.09,  74.6 ,  99.42,  66.06, 105.45],\n",
       "       [103.07,  76.94, 106.37,  71.99, 115.61],\n",
       "       [110.26,  83.04, 113.89,  76.79, 116.61],\n",
       "       [110.84,  80.74, 114.78,  80.98, 120.39],\n",
       "       [112.28,  80.29, 115.6 ,  89.18, 119.2 ],\n",
       "       [111.1 ,  82.82, 115.89,  92.71, 119.92],\n",
       "       [110.06,  86.29, 117.66,  94.85, 120.57],\n",
       "       [113.7 ,  87.41, 118.27,  99.18, 123.37],\n",
       "       [112.88,  85.1 , 114.19,  86.33, 121.39],\n",
       "       [102.08,  78.08, 101.81,  71.94, 118.16],\n",
       "       [ 95.54,  76.06,  91.62,  67.18, 108.84],\n",
       "       [ 91.33,  69.23,  90.15,  62.98, 100.78],\n",
       "       [ 89.99,  69.04,  90.55,  69.45,  99.92],\n",
       "       [ 91.44,  64.48,  92.3 ,  67.56, 100.65],\n",
       "       [ 93.51,  65.73,  91.75,  67.92,  98.92],\n",
       "       [ 93.6 ,  67.2 ,  92.  ,  68.4 , 100.31],\n",
       "       [ 93.78,  70.25,  92.57,  67.97,  96.41],\n",
       "       [ 98.91,  82.59, 100.28,  76.33, 101.24],\n",
       "       [121.76,  92.12, 114.33,  95.79, 118.7 ],\n",
       "       [129.6 , 100.82, 122.17, 112.36, 133.29],\n",
       "       [127.9 ,  95.23, 117.83,  82.03, 130.31],\n",
       "       [114.55,  89.51, 112.49,  73.83, 122.4 ],\n",
       "       [101.88,  82.84,  93.7 ,  66.12, 104.98],\n",
       "       [ 99.09,  82.3 ,  97.17,  63.24, 107.54],\n",
       "       [103.35,  83.76,  95.64,  63.98, 110.74],\n",
       "       [106.58,  84.72, 102.21,  69.1 , 110.51],\n",
       "       [108.  ,  83.91, 107.58,  70.04, 111.46],\n",
       "       [114.95,  99.14, 110.48,  80.03, 113.42],\n",
       "       [121.17, 101.6 , 117.73,  87.92, 118.15],\n",
       "       [122.48, 113.03, 122.07,  97.07, 114.  ],\n",
       "       [127.58, 119.54, 128.58, 106.52, 124.91],\n",
       "       [131.89, 118.09, 131.12, 108.93, 126.06],\n",
       "       [129.36, 107.32, 127.08,  95.17, 123.3 ],\n",
       "       [104.26,  82.6 , 110.99,  74.31, 111.61],\n",
       "       [ 93.45,  77.4 ,  97.43,  62.63,  98.82],\n",
       "       [ 92.93,  71.77,  92.05,  69.92,  97.47],\n",
       "       [ 96.15,  71.25,  93.21,  70.58, 103.01],\n",
       "       [ 99.1 ,  71.35,  98.58,  74.63, 109.36],\n",
       "       [103.  ,  73.62, 100.23,  78.69, 104.79],\n",
       "       [103.31,  76.2 , 102.09,  81.82, 105.09],\n",
       "       [103.01,  74.15, 101.73,  82.36, 103.16],\n",
       "       [107.37,  75.67, 107.28,  89.44, 106.52],\n",
       "       [116.91,  79.2 , 115.35, 102.01, 121.68],\n",
       "       [125.29,  80.85, 123.03, 116.12, 125.32],\n",
       "       [123.94,  85.33, 123.08,  92.06, 123.41],\n",
       "       [113.03,  75.02, 109.71,  82.7 , 108.48],\n",
       "       [102.19,  77.95,  97.22,  66.62,  98.73],\n",
       "       [ 97.83,  78.98,  95.75,  68.11,  96.25],\n",
       "       [101.07,  76.55,  97.09,  73.48, 100.12],\n",
       "       [103.44,  74.89,  98.18,  82.04, 101.29],\n",
       "       [108.23,  70.  , 103.1 ,  81.19, 102.81],\n",
       "       [110.28,  81.53, 110.6 ,  95.05, 108.53]])"
      ]
     },
     "execution_count": 10,
     "metadata": {},
     "output_type": "execute_result"
    }
   ],
   "source": [
    "# Filtrando os dados que remetem a sequencia de precos no dataset\n",
    "precos = dados_transpostos[:, 1:6]\n",
    "precos"
   ]
  },
  {
   "cell_type": "markdown",
   "metadata": {},
   "source": [
    "Array completo de preços de cada cidade iniciando em 1.2013 e encerrando em 3.2020, ao todo 87 meses."
   ]
  },
  {
   "cell_type": "code",
   "execution_count": 11,
   "metadata": {},
   "outputs": [],
   "source": [
    "# cada coluna representa os preços de cada cidade segundo o dataset..\n",
    "Moscow = precos[:,0]\n",
    "Kaliningrad = precos[:,1]\n",
    "Petersburg = precos[:,2]\n",
    "Krasnodar = precos[:,3]\n",
    "Ekaterinburg = precos[:,4]"
   ]
  },
  {
   "cell_type": "markdown",
   "metadata": {},
   "source": [
    "Na sequência, os arrays divididos em 12 meses, representando 1 ano de preços para cada cidade do dataset."
   ]
  },
  {
   "cell_type": "code",
   "execution_count": 12,
   "metadata": {},
   "outputs": [],
   "source": [
    "# Havia criado um array com a sequencia de preços de todos os meses para cada cidade, nesta célula eu dividi o array\n",
    "# Em 4 anos, indicando 12 meses para cada ano\n",
    "\n",
    "###### MOSCOW ######\n",
    "Moscow_ano1 = Moscow [0:12]\n",
    "Moscow_ano2 = Moscow [12:24]\n",
    "Moscow_ano3 = Moscow [24:36]\n",
    "Moscow_ano4 = Moscow [36:48]\n",
    "Moscow_ano5 = Moscow [48:60]\n",
    "Moscow_ano6 = Moscow [60:72]\n",
    "Moscow_ano7 = Moscow [72:84]\n",
    "#Lista de períodos para simplificar o plt.plot por meio de um loop for\n",
    "periodos_Moscow_2013_2016 = [Moscow_ano1, Moscow_ano2, Moscow_ano3, Moscow_ano4] \n",
    "periodos_Moscow_2017_2019 = [Moscow_ano5, Moscow_ano6, Moscow_ano7]\n",
    "\n",
    "###### KALINIGRAD ######\n",
    "Kaliningrad_ano1 = Kaliningrad [0:12]\n",
    "Kaliningrad_ano2 = Kaliningrad [12:24]\n",
    "Kaliningrad_ano3 = Kaliningrad [24:36]\n",
    "Kaliningrad_ano4 = Kaliningrad [36:48]\n",
    "Kaliningrad_ano5 = Kaliningrad [48:60]\n",
    "Kaliningrad_ano6 = Kaliningrad [60:72]\n",
    "Kaliningrad_ano7 = Kaliningrad [72:84]\n",
    "#Lista de períodos para simplificar o plt.plot por meio de um loop for\n",
    "periodos_Kaliningrad_2013_2016 = [Kaliningrad_ano1, Kaliningrad_ano2, Kaliningrad_ano3, Kaliningrad_ano4] \n",
    "periodos_Kaliningrad_2017_2019 = [Kaliningrad_ano5, Kaliningrad_ano6, Kaliningrad_ano7]\n",
    "\n",
    "###### PETESBURG ######\n",
    "Petersburg_ano1 = Petersburg [0:12]\n",
    "Petersburg_ano2 = Petersburg [12:24]\n",
    "Petersburg_ano3 = Petersburg [24:36]\n",
    "Petersburg_ano4 = Petersburg [36:48]\n",
    "Petersburg_ano5 = Petersburg [48:60]\n",
    "Petersburg_ano6 = Petersburg [60:72]\n",
    "Petersburg_ano7 = Petersburg [72:84]\n",
    "#Lista de períodos para simplificar o plt.plot por meio de um loop for\n",
    "periodos_Petersburg_2013_2016 = [Petersburg_ano1, Petersburg_ano2, Petersburg_ano3, Petersburg_ano4] \n",
    "periodos_Petersburg_2017_2019 = [Petersburg_ano5, Petersburg_ano6, Petersburg_ano7]\n",
    "\n",
    "###### KRASNODAR ######\n",
    "Krasnodar_ano1 = Krasnodar [0:12]\n",
    "Krasnodar_ano2 = Krasnodar [12:24]\n",
    "Krasnodar_ano3 = Krasnodar [24:36]\n",
    "Krasnodar_ano4 = Krasnodar [36:48]\n",
    "Krasnodar_ano5 = Krasnodar [48:60]\n",
    "Krasnodar_ano6 = Krasnodar [60:72]\n",
    "Krasnodar_ano7 = Krasnodar [72:84]\n",
    "#Lista de períodos para simplificar o plt.plot por meio de um loop for\n",
    "periodos_Krasnodar_2013_2016 = [Krasnodar_ano1, Krasnodar_ano2, Krasnodar_ano3, Krasnodar_ano4] \n",
    "periodos_Krasnodar_2017_2019 = [Krasnodar_ano5, Krasnodar_ano6, Krasnodar_ano7]\n",
    "\n",
    "###### EKATERINBURG ######\n",
    "Ekaterinburg_ano1 = Ekaterinburg [0:12]\n",
    "Ekaterinburg_ano2 = Ekaterinburg [12:24]\n",
    "Ekaterinburg_ano3 = Ekaterinburg [24:36]\n",
    "Ekaterinburg_ano4 = Ekaterinburg [36:48]\n",
    "Ekaterinburg_ano5 = Ekaterinburg [48:60]\n",
    "Ekaterinburg_ano6 = Ekaterinburg [60:72]\n",
    "Ekaterinburg_ano7 = Ekaterinburg [72:84]\n",
    "#Lista de períodos para simplificar o plt.plot por meio de um loop for\n",
    "periodos_Ekaterinburg_2013_2016 = [Ekaterinburg_ano1, Ekaterinburg_ano2, Ekaterinburg_ano3, Ekaterinburg_ano4] \n",
    "periodos_Ekaterinburg_2017_2019 = [Ekaterinburg_ano5, Ekaterinburg_ano6, Ekaterinburg_ano7]"
   ]
  },
  {
   "cell_type": "code",
   "execution_count": 13,
   "metadata": {
    "editable": true,
    "slideshow": {
     "slide_type": ""
    },
    "tags": []
   },
   "outputs": [
    {
     "data": {
      "image/png": "[encoded data removed]",
      "text/plain": [
       "<Figure size 640x480 with 1 Axes>"
      ]
     },
     "metadata": {},
     "output_type": "display_data"
    }
   ],
   "source": [
    "# Plotando gráfico para uma análise inicial com as datas no eixo das abcissas e os preços nas ordenadas utilizando a função plot().\n",
    "for i in periodos_Moscow_2013_2016:\n",
    "    plt.plot(np.arange(1,13,1), i)\n",
    "    plt.legend([\"Ano 1\", \"Ano 2\", \"ano 3\", \"ano 4\"])"
   ]
  },
  {
   "cell_type": "code",
   "execution_count": 14,
   "metadata": {},
   "outputs": [
    {
     "data": {
      "text/plain": [
       "False"
      ]
     },
     "execution_count": 14,
     "metadata": {},
     "output_type": "execute_result"
    }
   ],
   "source": [
    "# Conhecendo algumas funções da Numpy.. array_equal compara arrays retornando True or False para igualdade entre eles\n",
    "np.array_equal(Moscow_ano3, Moscow_ano4)"
   ]
  },
  {
   "cell_type": "code",
   "execution_count": 15,
   "metadata": {},
   "outputs": [
    {
     "data": {
      "text/plain": [
       "False"
      ]
     },
     "execution_count": 15,
     "metadata": {},
     "output_type": "execute_result"
    }
   ],
   "source": [
    "# Função allclose compara arrays e recebe um valor retornando True caso não haja maior variação entre os arrays que o\n",
    "# Valor estipulado ou retornando False para caso haja maior diferença que o valor estipulado.\n",
    "np.allclose(Moscow_ano3, Moscow_ano4,0.01)"
   ]
  },
  {
   "cell_type": "code",
   "execution_count": 16,
   "metadata": {},
   "outputs": [
    {
     "data": {
      "text/plain": [
       "True"
      ]
     },
     "execution_count": 16,
     "metadata": {},
     "output_type": "execute_result"
    }
   ],
   "source": [
    "np.allclose(Moscow_ano3, Moscow_ano4,10)"
   ]
  },
  {
   "cell_type": "code",
   "execution_count": 17,
   "metadata": {},
   "outputs": [
    {
     "name": "stdout",
     "output_type": "stream",
     "text": [
      "0\n",
      "1\n",
      "0\n",
      "0\n",
      "0\n"
     ]
    }
   ],
   "source": [
    "#Montei um sistema com todas as cidades para verificar quantos valores nan há em cada cidade, no entanto, somente\n",
    "# há um valor nan para Kalinigrad\n",
    "print(sum(np.isnan(Moscow)))\n",
    "print(sum(np.isnan(Kaliningrad)))\n",
    "print(sum(np.isnan(Petersburg)))\n",
    "print(sum(np.isnan(Krasnodar)))\n",
    "print(sum(np.isnan(Ekaterinburg)))"
   ]
  },
  {
   "cell_type": "markdown",
   "metadata": {},
   "source": [
    "### Criando Loop para detecção e aplicação de correção estatística para valores do tipo NaN (Not a Number)."
   ]
  },
  {
   "cell_type": "code",
   "execution_count": 18,
   "metadata": {
    "scrolled": true
   },
   "outputs": [
    {
     "name": "stdout",
     "output_type": "stream",
     "text": [
      "O valor na posição 4 é nan e o seu resultado ajustado é 49.17\n"
     ]
    }
   ],
   "source": [
    "#Montei um loop for  para encontrar os valores nan no array Kaliningrad.\n",
    "#Primeiramente criei um array cópia do original chamado Kaliningrad_sem_nan para manipulá-lo\n",
    "Kaliningrad_sem_nan = np.copy(Kaliningrad)\n",
    "\n",
    "#Utilizando a função built-in enumerate() dentro do for, fui capaz de rastrear os índices e valores dentro do array\n",
    "for i, valor in enumerate(Kaliningrad_sem_nan):\n",
    "#Se o valor é Nan, retorna True, se é True, dou comando para aplicar média aritimética dos valores adjacentes ao Nan, no entanto,\n",
    "#se houver nan no primeiro ou segundo índice dou comando para o nan adquirir os valores seguintes ou anteriores respectivamente.\n",
    "    if (np.isnan(valor) == True):\n",
    "        if (i > 0) and (i < len(Kaliningrad_sem_nan) - 1):\n",
    "            Kaliningrad_sem_nan[i] = np.mean([Kaliningrad_sem_nan[i-1], Kaliningrad_sem_nan[i+1]])\n",
    "        elif i == 0:\n",
    "            Kaliningrad_sem_nan[i] = Kaliningrad_sem_nan[i+1] \n",
    "        elif i == len(Kaliningrad_sem_nan - 1): \n",
    "            Kaliningrad_sem_nan[i] = Kaliningrad_sem_nan[i-1]\n",
    "#Na sequência, uma condicional para comunicar quais índices foram encontrados com valores nan, \n",
    "#E qual o resultado ajustado destes índices, caso haja dois ou mais.\n",
    "#Valores nans, o resultado ajustado será outro nan, com isso, imprime uma mensagem de alerta, \n",
    "#para que o cientista tome a decisão cabível.\n",
    "#Para cada caso, seja eliminar esses resultados subistituir ou aplicar outra técnica matemática.\n",
    "    if (np.isnan(valor) == True):\n",
    "        print(f'O valor na posição {i} é nan e o seu resultado ajustado é {Kaliningrad_sem_nan[i]}')\n",
    "        if np.isnan(Kaliningrad_sem_nan[i]):\n",
    "            print(f\"Alerta! o índice {i} obteve um valor de nan --> {Kaliningrad_sem_nan[i]}\")"
   ]
  },
  {
   "cell_type": "code",
   "execution_count": 19,
   "metadata": {},
   "outputs": [
    {
     "data": {
      "text/plain": [
       "array([ 42.67,  44.37,  44.73,  46.75,  49.17,  51.59,  57.8 ,  62.14,\n",
       "        56.76,  50.85,  46.43,  46.73,  45.85,  49.25,  48.14,  49.18,\n",
       "        49.49,  49.83,  49.14,  63.21,  61.2 ,  60.34,  62.2 ,  74.2 ,\n",
       "        75.32,  75.92,  72.89,  74.85,  92.19,  99.7 , 102.78,  92.67,\n",
       "        90.63,  83.31,  75.5 ,  74.6 ,  76.94,  83.04,  80.74,  80.29,\n",
       "        82.82,  86.29,  87.41,  85.1 ,  78.08,  76.06,  69.23,  69.04,\n",
       "        64.48,  65.73,  67.2 ,  70.25,  82.59,  92.12, 100.82,  95.23,\n",
       "        89.51,  82.84,  82.3 ,  83.76,  84.72,  83.91,  99.14, 101.6 ,\n",
       "       113.03, 119.54, 118.09, 107.32,  82.6 ,  77.4 ,  71.77,  71.25,\n",
       "        71.35,  73.62,  76.2 ,  74.15,  75.67,  79.2 ,  80.85,  85.33,\n",
       "        75.02,  77.95,  78.98,  76.55,  74.89,  70.  ,  81.53])"
      ]
     },
     "execution_count": 19,
     "metadata": {},
     "output_type": "execute_result"
    }
   ],
   "source": [
    "#Problema corrigido!\n",
    "Kaliningrad_sem_nan"
   ]
  },
  {
   "cell_type": "markdown",
   "metadata": {},
   "source": [
    "## Regressão Linear"
   ]
  },
  {
   "cell_type": "markdown",
   "metadata": {},
   "source": [
    "##### A regressão linear é um método estatístico utilizado para modelar a relação entre uma variável dependente entre <br>\n",
    "##### uma ou mais variáveis independentes. Isto é, o método tem como objetivo encontrar uma reta ajustada que melhor <br>\n",
    "##### se encaixe aos dados observados. A equação da reta é representada por: <br>\n",
    "$$ Y = aX + b$$\n",
    "Onde:<br>\n",
    "$Y$ = Variável dependente;<br>\n",
    "$X$ = Variável independente;<br>\n",
    "$a$ = Inclinação da reta;<br>\n",
    "$b$ = Interceptação no eixo Y;<br>"
   ]
  },
  {
   "cell_type": "markdown",
   "metadata": {},
   "source": [
    "#### Cálculo do Coeficiente Angular da Reta (a): <br>\n",
    "$$ \\hat{a} = \\frac{N\\cdot\\sum_{}^{}\\left( X_{i}\\cdot Y_{i} \\right) - \\sum_{_{}}^{}\\left( X_{i} \\right) \\cdot \\sum_{_{}}^{}\\left( Y_{i} \\right)} {N\\cdot \\sum_{_{}}^{}\\left( X^{2}_{i} \\right)-\\left( \\sum_{_{}}^{}\\left( X_{i} \\right) \\right)^{2}} $$\n",
    "Onde:<br>\n",
    "$\\hat{a}$ = Coeficiente angular da reta;<br>\n",
    "$N$ = Número de elementos; <br>\n",
    "$X$ = Valores do eixo das abcissas;<br>\n",
    "$Y$ = Valores do eixo das ordenadas.<br>"
   ]
  },
  {
   "cell_type": "code",
   "execution_count": 20,
   "metadata": {},
   "outputs": [
    {
     "name": "stdout",
     "output_type": "stream",
     "text": [
      "O valor do coeficiente angular da reta é 0.43520212145512926.\n"
     ]
    }
   ],
   "source": [
    "# Nesta célula de código irei calcular o coeficiente angular para os dados da cidade de Moscow no período de 87 meses.\n",
    "# Atribuindo o array dos períodos de datas percorridos em meses à variável x\n",
    "X = datas\n",
    "# Atribuindo o array dos preços das maçãs à variável Y:\n",
    "Y = Moscow\n",
    "# Atribuindo o valor de número de elementos à variável N:\n",
    "N = np.size(Moscow) # = 87\n",
    "\n",
    "#Numpy.sum soma todos os indivíduos dentro do array\n",
    "# Inserindo os valores na fórmula: \n",
    "a = ((N*np.sum((X*Y)) - np.sum(X) * np.sum(Y))) / ((N * np.sum(X**2)) - np.sum(X)**2) \n",
    "print(f\"O valor do coeficiente angular da reta é {a}.\")"
   ]
  },
  {
   "cell_type": "markdown",
   "metadata": {},
   "source": [
    "#### Cálculo do Coeficiente Linear da Reta (b): <br>\n",
    "$$ \\hat{b} = \\bar{Y_{i}} - \\hat{a}\\cdot \\bar{X_{i}} $$\n",
    "Onde:<br>\n",
    "$\\hat{b}$ = Coeficiente linear da reta;<br>\n",
    "$\\hat{a}$ = Coeficiente angular da reta;<br>\n",
    "$\\bar{X_{i}}$ = Média aritimética dos valores de X;<br>\n",
    "$\\bar{Y_{i}}$ = Média aritimética dos valores de Y."
   ]
  },
  {
   "cell_type": "code",
   "execution_count": 21,
   "metadata": {},
   "outputs": [
    {
     "name": "stdout",
     "output_type": "stream",
     "text": [
      "O valor do coeficiente linear da reta é 79.64892274792834.\n"
     ]
    }
   ],
   "source": [
    "media_X = np.mean(X)\n",
    "media_Y = np.mean(Y)\n",
    "b = media_Y - (a * media_X)\n",
    "print(f\"O valor do coeficiente linear da reta é {b}.\")"
   ]
  },
  {
   "cell_type": "markdown",
   "metadata": {},
   "source": [
    "Feito isto, temos os valores de Coeficiente angular e Coeficiente linear da reta, agora basta calcular o valor de y para qualquer valor."
   ]
  },
  {
   "cell_type": "code",
   "execution_count": 22,
   "metadata": {},
   "outputs": [],
   "source": [
    "y = a*X + b"
   ]
  },
  {
   "cell_type": "markdown",
   "metadata": {},
   "source": [
    "#### Visualização da reta ajustada utilizando matplotlib"
   ]
  },
  {
   "cell_type": "code",
   "execution_count": 23,
   "metadata": {},
   "outputs": [
    {
     "data": {
      "image/png": "[encoded data removed]",
      "text/plain": [
       "<Figure size 640x480 with 1 Axes>"
      ]
     },
     "metadata": {},
     "output_type": "display_data"
    }
   ],
   "source": [
    "plt.plot(datas, Moscow, label = 'Variação do preço') # Valores de vendas em função do período\n",
    "plt.plot(X, y, 'yellow', label = 'Reta ajustada', linestyle = '--') # Reta ajustada\n",
    "#Supondo que eu gostaria de saber qual a venda em um período desconhecido no dataframe:\n",
    "plt.plot(35.5, a*35.5+b, 'r*', label = 'Ponto de interesse') \n",
    "plt.plot(90, a*90+b, 'r*') \n",
    "plt.title('Vendas de maçãs Moscow 1.2013 - 3.2020')\n",
    "plt.xlabel('Número de Meses')\n",
    "plt.ylabel('Número de Vendas')\n",
    "plt.legend()\n",
    "plt.show()"
   ]
  },
  {
   "cell_type": "code",
   "execution_count": 24,
   "metadata": {},
   "outputs": [
    {
     "data": {
      "text/plain": [
       "101.7969539992751"
      ]
     },
     "execution_count": 24,
     "metadata": {},
     "output_type": "execute_result"
    }
   ],
   "source": [
    "# Função da biblioteca Numpy que calcula a norma, quanto menor o valor da norma melhor o ajuste da reta.\n",
    "np.linalg.norm(Moscow-y)"
   ]
  },
  {
   "cell_type": "markdown",
   "metadata": {},
   "source": [
    "### Números Aleatórios"
   ]
  },
  {
   "cell_type": "markdown",
   "metadata": {},
   "source": [
    "Outra forma de obter os valores dos coeficientes se dá pela geração de números aleatórios, é isso que farei a seguir.\n",
    "Em resumo, irei gerar um array de n números hipotéticos para possíveis valores de coeficientes angulares e aplicarei\n",
    "a função para encontrar a norma de cada um deles, para o melhor resultado assumo que este será meu coeficiente angular."
   ]
  },
  {
   "cell_type": "code",
   "execution_count": 25,
   "metadata": {
    "scrolled": true
   },
   "outputs": [
    {
     "name": "stdout",
     "output_type": "stream",
     "text": [
      "144.15945729164184\n",
      "126.2434138193368\n",
      "155.9970057683189\n",
      "107.08680623999157\n",
      "106.86282997003148\n",
      "158.67845114266126\n",
      "109.35768254854479\n",
      "120.63265903853976\n",
      "125.35437958011546\n",
      "103.94733302292791\n",
      "201.56558589697067\n",
      "117.56807326513558\n",
      "115.2248940732428\n",
      "133.15214048650347\n",
      "114.29152340832596\n",
      "143.68651740215785\n",
      "179.12943215239534\n",
      "108.03821677443086\n",
      "130.90766441371127\n",
      "112.47663992667138\n",
      "128.0280211089894\n",
      "183.98885221533942\n",
      "176.12512094837803\n",
      "151.09754289877188\n",
      "101.81980997983943\n",
      "106.6749297575363\n",
      "165.9680559380736\n",
      "102.3076713021206\n",
      "217.0586622346255\n",
      "147.53847726119483\n",
      "113.98572340917434\n",
      "102.06269824304361\n",
      "174.26822910423252\n",
      "171.44242905653863\n",
      "103.6425790213291\n",
      "102.93519781279466\n",
      "168.1948176387063\n",
      "188.33822129583473\n",
      "222.87727019762474\n",
      "171.51717333289116\n",
      "162.77638046046678\n",
      "104.88682857805789\n",
      "169.70607712806788\n",
      "108.13085402167368\n",
      "146.10854620692953\n",
      "139.4312550722385\n",
      "140.9172516976758\n",
      "170.52330972782605\n",
      "148.06043321082385\n",
      "226.3585881483858\n",
      "204.97133871472005\n",
      "121.1722452372918\n",
      "174.1644886578959\n",
      "157.28707084127444\n",
      "101.80475714136792\n",
      "106.63588100420414\n",
      "103.02083619243605\n",
      "230.74524677597523\n",
      "108.47418017449681\n",
      "101.89320477922709\n",
      "155.667603071611\n",
      "137.03222703459485\n",
      "119.60854978533531\n",
      "105.10675649919857\n",
      "175.92370687320644\n",
      "125.66955659425459\n",
      "129.38471885815105\n",
      "209.27614540144933\n",
      "102.25364937850831\n",
      "188.47324607853207\n",
      "191.63027217746225\n",
      "111.77975019242277\n",
      "103.10704888689959\n",
      "180.71943251873248\n",
      "216.2378942025438\n",
      "174.7882760662356\n",
      "101.86216386412634\n",
      "147.4565580489518\n",
      "136.81570228794163\n",
      "162.46390611436348\n",
      "133.58047344765362\n",
      "132.51930278265218\n",
      "108.1132389115846\n",
      "113.28732306633782\n",
      "233.1869800656405\n",
      "158.12870581437835\n",
      "109.4949711462333\n",
      "240.94708836405331\n",
      "125.61147890032747\n",
      "106.79941287628534\n",
      "132.61884589362015\n",
      "240.92410000610272\n",
      "123.26957454663754\n",
      "163.21438246301545\n",
      "224.1089923400493\n",
      "109.36289072183426\n",
      "113.99282455153508\n",
      "236.95159423720136\n",
      "222.43678437541496\n",
      "231.25371598663432\n"
     ]
    }
   ],
   "source": [
    "#OBS: ex função numpy que cria números inteiros aleatórios: numpy.random.randint(low=40,high=100,size=100)\n",
    "#Irei utilizar a função para gerar números do tipo float, já que os coeficientes são números com decimais\n",
    "coef_angulares = np.random.uniform(0.1, 0.9, 100)\n",
    "#coef_angulares recebe um array de tamanho 10000, a\n",
    "#Relembrando, y = coef_angulares * X + b\n",
    "#np.linalg.norm(Moscow-y)\n",
    "for i in range(100):\n",
    "    print(np.linalg.norm(Moscow - (coef_angulares[i]*X + b)))"
   ]
  },
  {
   "cell_type": "markdown",
   "metadata": {},
   "source": [
    "Muito interessante, apliquei a fórmula para obter a norma em cada um dos valores de coef.  angulares supostos\n",
    "gerados aleatóriamente, agora basta encontrar o menor valor da norma e identificar qual coeficiente angular\n",
    "gerou o mesmo.\n",
    "Para tal irei armazenar todos os valores de normas, como fiz no print, em um array e depois encontrar o valor mínimo.\n",
    "Para efetuar este procedimento montarei um loop for.."
   ]
  },
  {
   "cell_type": "code",
   "execution_count": 26,
   "metadata": {},
   "outputs": [],
   "source": [
    "######## Exemplo de iteração e aplicação cálculo em um array e ir armezenando os resultados em um array vazio\n",
    "#x = [0,1,2,3,4,5,6,7,8,9,10]\n",
    "#y = []\n",
    "#for i in x:\n",
    "#  y.append(i + 3 / 2)"
   ]
  },
  {
   "cell_type": "code",
   "execution_count": 27,
   "metadata": {},
   "outputs": [
    {
     "name": "stdout",
     "output_type": "stream",
     "text": [
      "Norma: 101.79695401222385\n",
      "Coeficiente Angular(a): 0.43520555744275635\n"
     ]
    }
   ],
   "source": [
    "np.random.seed(17) # Defini uma seed aleatória para gerar sempre os mesmos números\n",
    "coef_angulares = np.random.uniform(0.1, 0.9, 50000) # Para ficar mais interessante a brincadeira, gerei 50k de números\n",
    "norma = np.array([]) #array vazio para receber cada resultado da norma no loop for\n",
    "for i in range(50000): #range de 50k\n",
    "    np.linalg.norm(Moscow - (coef_angulares[i]*X + b)) #para cada laço aplico a função e encontro uma norma\n",
    "    norma = np.append(norma, np.linalg.norm(Moscow - (coef_angulares[i]*X + b))) # Append dos valores calculados no array vazio\n",
    "menor_norma_do_array = np.argmin(norma) # a variável está recebendo o menor valor do array\n",
    "print(f\"Norma: {norma[menor_norma_do_array]}\\nCoeficiente Angular(a): {coef_angulares[menor_norma_do_array]}\")"
   ]
  }
 ],
 "metadata": {
  "kernelspec": {
   "display_name": "Python 3 (ipykernel)",
   "language": "python",
   "name": "python3"
  },
  "language_info": {
   "codemirror_mode": {
    "name": "ipython",
    "version": 3
   },
   "file_extension": ".py",
   "mimetype": "text/x-python",
   "name": "python",
   "nbconvert_exporter": "python",
   "pygments_lexer": "ipython3",
   "version": "3.11.5"
  }
 },
 "nbformat": 4,
 "nbformat_minor": 4
}
